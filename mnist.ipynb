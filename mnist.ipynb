{
 "cells": [
  {
   "cell_type": "code",
   "execution_count": 4,
   "metadata": {
    "vscode": {
     "languageId": "rust"
    }
   },
   "outputs": [],
   "source": [
    ":dep dfdx = {version=\"*\", git=\"https://github.com/coreylowman/dfdx\", features=[\"cuda\"]}\n",
    ":dep mnist = \"0.5.0\"\n",
    ":dep indicatif = \"0.17.3\"\n",
    ":dep rand = { version = \"0.8.5\", default-features = false, features = [\"std_rng\"] }\n"
   ]
  },
  {
   "cell_type": "code",
   "execution_count": 5,
   "metadata": {
    "vscode": {
     "languageId": "rust"
    }
   },
   "outputs": [],
   "source": [
    "use std::time::Instant;\n",
    "\n",
    "use indicatif::ProgressIterator;\n",
    "use mnist::*;\n",
    "use rand::prelude::{SeedableRng, StdRng};\n",
    "\n",
    "use dfdx::{data::*, optim::Adam, prelude::*};\n",
    "\n",
    "type Dev = Cuda;\n"
   ]
  },
  {
   "cell_type": "code",
   "execution_count": 6,
   "metadata": {
    "vscode": {
     "languageId": "rust"
    }
   },
   "outputs": [],
   "source": [
    "struct MnistTrainSet(Mnist);\n",
    "\n",
    "impl MnistTrainSet {\n",
    "    fn new(path: &str) -> Self {\n",
    "        Self(MnistBuilder::new().base_path(path).finalize())\n",
    "    }\n",
    "}\n",
    "\n",
    "impl ExactSizeDataset for MnistTrainSet {\n",
    "    type Item<'a> = (Vec<f32>, usize) where Self: 'a;\n",
    "    fn get(&self, index: usize) -> Self::Item<'_> {\n",
    "        let mut img_data: Vec<f32> = Vec::with_capacity(784);\n",
    "        let start = 784 * index;\n",
    "        img_data.extend(\n",
    "            self.0.trn_img[start..start + 784]\n",
    "                .iter()\n",
    "                .map(|x| *x as f32 / 255.0),\n",
    "        );\n",
    "        (img_data, self.0.trn_lbl[index] as usize)\n",
    "    }\n",
    "    fn len(&self) -> usize {\n",
    "        self.0.trn_lbl.len()\n",
    "    }\n",
    "}\n",
    "\n",
    "// our network structure\n",
    "type Mlp = (\n",
    "    (Linear<784, 512>, ReLU),\n",
    "    (Linear<512, 128>, ReLU),\n",
    "    (Linear<128, 32>, ReLU),\n",
    "    Linear<32, 10>,\n",
    ");\n",
    "\n",
    "// training batch size\n",
    "const BATCH_SIZE: usize = 32;\n",
    "\n",
    "\n",
    "fn preprocess(dev:&Dev, (img, lbl): <MnistTrainSet as ExactSizeDataset>::Item<'_>) -> (Tensor<Rank1<784>, f32, Dev>, Tensor<Rank1<10>, f32, Dev>){\n",
    "    let mut one_hotted = [0.0; 10];\n",
    "    one_hotted[lbl] = 1.0;\n",
    "    (\n",
    "        dev.tensor_from_vec(img, (Const::<784>,)),\n",
    "        dev.tensor(one_hotted),\n",
    "    )\n",
    "}\n"
   ]
  },
  {
   "cell_type": "code",
   "execution_count": 7,
   "metadata": {
    "vscode": {
     "languageId": "rust"
    }
   },
   "outputs": [
    {
     "name": "stdout",
     "output_type": "stream",
     "text": [
      "Found 60000 training images\n"
     ]
    }
   ],
   "source": [
    "let mnist_path = \"./tmp\";\n",
    "\n",
    "// initialize dataset\n",
    "let dataset = MnistTrainSet::new(&mnist_path);\n",
    "println!(\"Found {:?} training images\", dataset.len());"
   ]
  },
  {
   "cell_type": "code",
   "execution_count": 8,
   "metadata": {
    "vscode": {
     "languageId": "rust"
    }
   },
   "outputs": [
    {
     "name": "stdout",
     "output_type": "stream",
     "text": [
      "Epoch 0 in 1.903927601s (984.806 batches/s): avg sample loss 7.72665\n",
      "Epoch 1 in 1.817816348s (1031.457 batches/s): avg sample loss 3.01805\n",
      "Epoch 2 in 1.806887313s (1037.696 batches/s): avg sample loss 2.01029\n",
      "Epoch 3 in 1.801119643s (1041.019 batches/s): avg sample loss 1.51861\n",
      "Epoch 4 in 1.815149669s (1032.973 batches/s): avg sample loss 1.20415\n",
      "Epoch 5 in 1.824116796s (1027.895 batches/s): avg sample loss 1.00066\n",
      "Epoch 6 in 1.874476671s (1000.279 batches/s): avg sample loss 0.87972\n",
      "Epoch 7 in 1.840538481s (1018.724 batches/s): avg sample loss 0.70782\n",
      "Epoch 8 in 1.817083212s (1031.874 batches/s): avg sample loss 0.66483\n",
      "Epoch 9 in 1.877221369s (998.817 batches/s): avg sample loss 0.57505\n"
     ]
    },
    {
     "data": {
      "text/plain": [
       "()"
      ]
     },
     "execution_count": 8,
     "metadata": {},
     "output_type": "execute_result"
    }
   ],
   "source": [
    "// ftz substantially improves performance\n",
    "dfdx::flush_denormals_to_zero();\n",
    "\n",
    "let dev: Dev = Default::default();\n",
    "let mut rng = StdRng::seed_from_u64(0);\n",
    "\n",
    "// initialize model, gradients, and optimizer\n",
    "let mut model = dev.build_module::<Mlp, f32>();\n",
    "let mut grads = model.alloc_grads();\n",
    "let mut opt = Adam::new(&model, Default::default());\n",
    "\n",
    "\n",
    "for i_epoch in 0..10 {\n",
    "    let mut total_epoch_loss = 0.0;\n",
    "    let mut num_batches = 0;\n",
    "    let start = Instant::now();\n",
    "    for (img, lbl) in dataset\n",
    "        .shuffled(&mut rng)\n",
    "        .map(|x| preprocess(&dev, x))\n",
    "        .batch(Const::<BATCH_SIZE>)\n",
    "        .collate()\n",
    "        .stack()\n",
    "        .progress()\n",
    "    {\n",
    "        let logits = model.forward_mut(img.traced_into(grads));\n",
    "        let loss = cross_entropy_with_logits_loss(logits, lbl);\n",
    "\n",
    "        total_epoch_loss += loss.array();\n",
    "        num_batches += 1;\n",
    "\n",
    "        grads = loss.backward();\n",
    "        opt.update(&mut model, &grads).unwrap();\n",
    "        model.zero_grads(&mut grads);\n",
    "    }\n",
    "    let dur = Instant::now() - start;\n",
    "\n",
    "    println!(\n",
    "        \"Epoch {i_epoch} in {:?} ({:.3} batches/s): avg sample loss {:.5}\",\n",
    "        dur,\n",
    "        num_batches as f32 / dur.as_secs_f32(),\n",
    "        BATCH_SIZE as f32 * total_epoch_loss / num_batches as f32,\n",
    "    );\n",
    "}\n"
   ]
  }
 ],
 "metadata": {
  "kernelspec": {
   "display_name": "Rust",
   "language": "rust",
   "name": "rust"
  },
  "language_info": {
   "codemirror_mode": "rust",
   "file_extension": ".rs",
   "mimetype": "text/rust",
   "name": "Rust",
   "pygment_lexer": "rust",
   "version": ""
  },
  "orig_nbformat": 4
 },
 "nbformat": 4,
 "nbformat_minor": 2
}
